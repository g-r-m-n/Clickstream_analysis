{
 "cells": [
  {
   "cell_type": "markdown",
   "id": "cb19fc3b-7b3e-433c-847f-fab52ed19220",
   "metadata": {},
   "source": [
    "# User behavior insights - case study"
   ]
  },
  {
   "cell_type": "markdown",
   "id": "853ec1cc-e66e-4a7d-8c74-859c9b04adcb",
   "metadata": {},
   "source": [
    "## Data structure"
   ]
  },
  {
   "cell_type": "markdown",
   "id": "b929bc0c-7cf6-46f6-9703-cf7fd922f86a",
   "metadata": {},
   "source": [
    "Each row in the dataset represents one pageview for a user (identified by the `user_id`). \n",
    "The whole customer journey can be traced through the timestamps, the session number as well as the `page_id`, which is a consecutive number per user/session for the pages they visited. The `pagepath` reveals the actual page type the user was on. If the page type identifies a hotel (e.g., offerlist, hotel/media etc.) we also provide the respective `hotel_uuid` identifier.\n",
    "\n",
    "\n",
    "A booking is indicated by the `transaction` pagepath. The given `hotel_uuid` identifies the booked hotel then."
   ]
  },
  {
   "cell_type": "markdown",
   "id": "73fab710-fff2-4fc3-9f63-204379fde321",
   "metadata": {},
   "source": [
    "## Task"
   ]
  },
  {
   "cell_type": "markdown",
   "id": "0ac1111c-75b5-4289-b210-f38183606cdd",
   "metadata": {},
   "source": [
    "The solution should include at least 2-3 insights that we can talk about in the technical interview. It doesn't need to be comprehensive, we're more interested in your approach and how you would derive business insights than in the actual results."
   ]
  },
  {
   "cell_type": "markdown",
   "id": "1f46c53c-6098-4b6a-a91d-96a8e46a0e63",
   "metadata": {},
   "source": [
    "## Setup "
   ]
  },
  {
   "cell_type": "code",
   "execution_count": 1,
   "id": "e30f2a7f-c4ea-4e5d-84c3-213d60b9f25c",
   "metadata": {},
   "outputs": [],
   "source": [
    "# load libraries\n",
    "import numpy as np\n",
    "import pandas as pd\n",
    "import sys, time\n",
    "\n",
    "# determine the path to the source folder \n",
    "pth_to_src = 'C:/DEV/Clickstream_case_study/'"
   ]
  },
  {
   "cell_type": "markdown",
   "id": "124a1098-9220-4fb6-ae47-8f52e0f8b97a",
   "metadata": {},
   "source": [
    "## Define utility functions "
   ]
  },
  {
   "cell_type": "code",
   "execution_count": 2,
   "id": "17db9596-a063-4986-93f1-47b7d7ec04b7",
   "metadata": {},
   "outputs": [],
   "source": [
    "# Define utility functions (i.e., additional auxillary python functions) for later usage:\n",
    "\n",
    "# Alternatively: store utility functions in separate script and load them \n",
    "# sys.path.append(pth_to_src+'utils/')\n",
    "# from utility import plot_rel_freq, plot_rel_freq_by_group, get_description, plot_distribution\n",
    "\n",
    "def plot_rel_freq(df, var_name,  title = 'Relative frequency', top_x = None):\n",
    "    \"\"\"\n",
    "    Plot relative frequencies of a variable \n",
    "    :param df: (dataframe) containing data to be used for ploting.\n",
    "    :param var_name: (string) name of variable to compute relative frequencies of.\n",
    "    :param title: (string) title to be printed on the plot.\n",
    "    :param top_x: (integer) if not None: Number of most common variable values to be considered in plot.\n",
    "    :output: (None)\n",
    "    \"\"\" \n",
    "    # get the number of cases for each distict value of var_name in the dataframe df:\n",
    "    dfg = pd.DataFrame(df.groupby([ var_name ]).size(), columns = [ var_name ]); dfg.index.name ='Index' \n",
    "    # compute the relative frequencies:\n",
    "    dfg /=dfg.sum()\n",
    "    if not top_x is None:\n",
    "        # order the grouped table by ascending order of the var_name variable:\n",
    "        dfg = dfg.sort_values(dfg.columns[0],ascending=False)\n",
    "        # select the top_x entries:\n",
    "        dfg = dfg.loc[dfg.index[0:(top_x-1)],:]\n",
    "    # plot the result    \n",
    "    dfg.plot(kind='bar',title=title, ylabel='Relative frequency')\n",
    "        \n",
    "    \n",
    "def plot_rel_freq_by_group(df, var_name, group_var_name, title = 'Relative frequency', top_x = None, custom_order = None):\n",
    "    \"\"\"\n",
    "    Plot relative frequencies of a variable per group\n",
    "    :param df: (dataframe) containing data to be used for ploting.\n",
    "    :param var_name: (string) name of variable to compute relative frequencies of.\n",
    "    :param group_var_name: (string) name of variable to group by.\n",
    "    :param title: (string) title to be printed on the plot.\n",
    "    :param top_x: (integer) if not None: Number of most common variable values to be considered in plot.\n",
    "    :custom_order: (list) if not None: a user-defined list to order the grouped outcome.\n",
    "    :output: (None)\n",
    "    \"\"\"\n",
    "    # get the number of cases for each distict value of a var_name and group_name combination in the dataframe df:\n",
    "    dfg = df.groupby([ var_name, group_var_name ]).size().unstack() \n",
    "    # compute the relative frequencies:\n",
    "    dfg /=dfg.sum()\n",
    "    # use a user-defined list to order the grouped table\n",
    "    if not custom_order is None:\n",
    "        dfg = dfg.reindex(custom_order)       \n",
    "    if not top_x is None:\n",
    "        # order the grouped table by ascending order of the var_name variable\n",
    "        dfg = dfg.sort_values(dfg.columns[0],ascending=False)\n",
    "        # select the top_x entries:    \n",
    "        dfg = dfg.loc[dfg.index[0:(top_x-1)],:]\n",
    "    # plot the result      \n",
    "    dfg.plot(kind='bar',title=title, ylabel='Relative frequency')\n",
    "\n",
    "    \n",
    "def get_description(df, var_name):\n",
    "    \"\"\"\n",
    "    Get the statistical description of a variable for booking and non-booking users.\n",
    "    :param df: (dataframe) containing data to be analysed.\n",
    "    :param var_name: (string) name of variable to be described.\n",
    "    :output df1: (dataframe) containing the statistical description of the variable var_name for booking and non-booking users.\n",
    "    \"\"\"  \n",
    "    # remove duplicate observations per user:\n",
    "    df1 = df[['user_id',var_name,'is_buyer']].drop_duplicates()\n",
    "    # create the output data frame:\n",
    "    df1 = pd.DataFrame({'Booking users':df1.loc[df1.is_buyer==1,var_name].describe(), 'Non-booking users': df1.loc[df1.is_buyer==0,var_name].describe()})\n",
    "    return df1    \n",
    "\n",
    "\n",
    "def plot_distribution(df, var_name, group_var_name = None, title = ''):\n",
    "    \"\"\"\n",
    "    Create distribution plots of a variable \n",
    "    :param df: (dataframe) containing data to be used for ploting.\n",
    "    :param var_name: (string) name of variable to compute relative frequencies of.\n",
    "    :param group_var_name: (string) if not None: name of variable to group by.\n",
    "    :param title: (string) title to be printed on the plot.\n",
    "    :output: (None)\n",
    "    \"\"\"   \n",
    "    import matplotlib.pyplot as plt\n",
    "    import seaborn as sns    \n",
    "    fig = plt.figure(figsize=(12, 6))\n",
    "    plt.title(title)\n",
    "    if not group_var_name is None:\n",
    "        df.groupby(df.index.get_level_values(group_var_name))[var_name].apply(\n",
    "            lambda x: sns.kdeplot(x, label=x.name))\n",
    "        plt.legend(loc='best')\n",
    "    else:\n",
    "        ax = sns.displot(df[var_name],kde=True,rug=True)\n",
    "    plt.xlabel(var_name)\n",
    "    plt.ylabel('kernel density estimation')\n",
    "    plt.show()"
   ]
  },
  {
   "cell_type": "markdown",
   "id": "9dd02775-0f1d-464f-87d6-44103be75738",
   "metadata": {},
   "source": [
    "## Read the data"
   ]
  },
  {
   "cell_type": "code",
   "execution_count": 3,
   "id": "bdc208a6-ea3e-43ab-a077-185429f34044",
   "metadata": {},
   "outputs": [],
   "source": [
    "# Read the dataframe:\n",
    "df = pd.read_csv(pth_to_src+'data/userbehavior.csv',  parse_dates=['timestamp'], infer_datetime_format=True)"
   ]
  },
  {
   "cell_type": "code",
   "execution_count": 4,
   "id": "40fb470b-a5c7-457d-925c-3fd63c411a32",
   "metadata": {},
   "outputs": [],
   "source": [
    "# sort dataframe according to 'user_id','session_id','timestamp','page_id' in ascending order.\n",
    "# Doing so (re)ensures that the dataframe is the expected order and lines are in a sequential order.\n",
    "df = df.sort_values(['user_id','session_id','timestamp','page_id'])\n",
    "# reset the index:\n",
    "df = df.reset_index()"
   ]
  },
  {
   "cell_type": "markdown",
   "id": "49a23af8-ba22-4df4-8d09-797a908fc319",
   "metadata": {},
   "source": [
    "## Add additional variables"
   ]
  },
  {
   "cell_type": "code",
   "execution_count": 5,
   "id": "72e351e4-e82b-4b40-9385-8933bae06c59",
   "metadata": {},
   "outputs": [],
   "source": [
    "# Add a variable to indicate a booking action:\n",
    "df['booked']= 1*(df.page_name=='transaction')"
   ]
  },
  {
   "cell_type": "code",
   "execution_count": 6,
   "id": "9752d79c-9e79-4b3f-8f86-5b28ea3be251",
   "metadata": {},
   "outputs": [],
   "source": [
    "# Add a variable to indicate the day of the week:\n",
    "df['weekday'] = df['timestamp'].dt.day_name() "
   ]
  },
  {
   "cell_type": "code",
   "execution_count": 7,
   "id": "a8c729ab-6a8c-482e-ad54-c169b784cd06",
   "metadata": {},
   "outputs": [],
   "source": [
    "# Add a variable to indicate the hour of the day:\n",
    "df['hour'] = df['timestamp'].dt.hour"
   ]
  },
  {
   "cell_type": "markdown",
   "id": "1afb70b9-967c-4274-afb6-2d7e37f6af95",
   "metadata": {},
   "source": [
    "## Describe the data overall briefly"
   ]
  },
  {
   "cell_type": "code",
   "execution_count": 8,
   "id": "3405ab99-164d-4d43-84ef-6748246acb69",
   "metadata": {},
   "outputs": [
    {
     "name": "stdout",
     "output_type": "stream",
     "text": [
      "The dataframe has 3297196 rows and 11 columns.\n",
      "First rows of the dataframe:\n",
      "     index                       user_id  session_id           timestamp  \\\n",
      "0  3239084  ++3HPCLueAkaMjet8R9BNe3D90g=           1 2022-02-02 11:35:19   \n",
      "1  3239085  ++6W7NF0RJB5aoqbpgjbFi+Tk2U=           1 2022-02-27 20:52:27   \n",
      "2  3239086  ++6W7NF0RJB5aoqbpgjbFi+Tk2U=           1 2022-02-27 20:52:39   \n",
      "3  3239087  ++6W7NF0RJB5aoqbpgjbFi+Tk2U=           1 2022-02-27 20:53:11   \n",
      "4  3239090  ++6W7NF0RJB5aoqbpgjbFi+Tk2U=           1 2022-02-27 20:53:44   \n",
      "\n",
      "    device  page_id     page_name                            hotel_uuid  \\\n",
      "0  desktop        1  /forum/topic                                   NaN   \n",
      "1   mobile        1         /home                                   NaN   \n",
      "2   mobile        1         /home                                   NaN   \n",
      "3   mobile        2    /hotellist                                   NaN   \n",
      "4   mobile        3    /offerlist  66562c02-f746-37b3-acce-1702beb8fe5d   \n",
      "\n",
      "   booked    weekday  hour  \n",
      "0       0  Wednesday    11  \n",
      "1       0     Sunday    20  \n",
      "2       0     Sunday    20  \n",
      "3       0     Sunday    20  \n",
      "4       0     Sunday    20  \n",
      "\n",
      "Columns of dataframe:\n",
      "Index(['index', 'user_id', 'session_id', 'timestamp', 'device', 'page_id',\n",
      "       'page_name', 'hotel_uuid', 'booked', 'weekday', 'hour'],\n",
      "      dtype='object')\n"
     ]
    }
   ],
   "source": [
    "# describe the dataframe briefly\n",
    "print('The dataframe has %d rows and %d columns.'% df.shape)\n",
    "print('First rows of the dataframe:')\n",
    "print(df.head())\n",
    "print('\\nColumns of dataframe:')\n",
    "print(df.columns)"
   ]
  },
  {
   "cell_type": "code",
   "execution_count": 9,
   "id": "4854febe-34c4-4074-baec-ce2aeef17bad",
   "metadata": {},
   "outputs": [
    {
     "name": "stdout",
     "output_type": "stream",
     "text": [
      "Number of users:            20380\n",
      "Number of session_ids:      896\n",
      "Number of devices:          3\n",
      "Number of page_ids:         1456\n",
      "Number of page_names:       443\n",
      "Number of hotel_uuid:       16198\n",
      "First timestemp:            2022-02-01 00:00:00\n",
      "Last timestemp:             2022-02-28 23:59:59\n",
      "Considered time period:     27 days 23:59:59\n",
      "Number of bookings:         9497\n",
      "Number of users who booked: 8744\n",
      "\n",
      "\n"
     ]
    }
   ],
   "source": [
    "# dataframe description:\n",
    "print('Number of users:            %d'% len(df.user_id.unique()))\n",
    "print('Number of session_ids:      %d'% len(df.session_id.unique()))\n",
    "print('Number of devices:          %d'% len(df.device.unique()))\n",
    "print('Number of page_ids:         %d'% len(df.page_id.unique()))\n",
    "print('Number of page_names:       %d'% len(df.page_name.unique()))\n",
    "print('Number of hotel_uuid:       %d'% len(df.hotel_uuid.unique()))    \n",
    "print('First timestemp:            %s'% df.timestamp.min())  \n",
    "print('Last timestemp:             %s'% df.timestamp.max()) \n",
    "print('Considered time period:     %s'% str(df.timestamp.max() - df.timestamp.min())) \n",
    "print('Number of bookings:         %d'% sum(df.booked))  \n",
    "print('Number of users who booked: %d'% len(df[df.booked==1].user_id.unique()))  \n",
    "print('\\n')"
   ]
  },
  {
   "cell_type": "code",
   "execution_count": 46,
   "id": "434c8799-83b9-4c51-9fd4-659c696d1923",
   "metadata": {},
   "outputs": [
    {
     "name": "stdout",
     "output_type": "stream",
     "text": [
      "Overall conversion rate:            :0.429\n"
     ]
    }
   ],
   "source": [
    "# overall conversion rate\n",
    "print('Overall conversion rate:            :'+  str(round(len(df[df.booked==1].user_id.unique())/len(df.user_id.unique()) ,3)) )"
   ]
  },
  {
   "cell_type": "code",
   "execution_count": 48,
   "id": "afbbb78d-072c-415b-aad6-25df25ebce18",
   "metadata": {},
   "outputs": [
    {
     "name": "stdout",
     "output_type": "stream",
     "text": [
      "Conversion rate for desktop            :0.6\n",
      "Conversion rate for mobile            :0.24\n",
      "Conversion rate for tablet            :0.402\n"
     ]
    }
   ],
   "source": [
    "for i in np.unique(df.device):\n",
    "    cvr_i = len(df.loc[(df.device==i) & (df.booked==1),'user_id'].unique())/len(df.loc[df.device==i,'user_id'].unique())\n",
    "    print('Conversion rate for '+i+'            :'+  str(round(cvr_i,3)) )"
   ]
  },
  {
   "cell_type": "markdown",
   "id": "a9b539e3-88e8-4996-98ac-824f195cebb5",
   "metadata": {},
   "source": [
    "## Understand the data structure more deeply "
   ]
  },
  {
   "cell_type": "markdown",
   "id": "6cd77e92-5aba-48c2-9b8c-ac84f928b25a",
   "metadata": {},
   "source": [
    "### Is the data set unique per user, session, timestamp and page id combination?"
   ]
  },
  {
   "cell_type": "markdown",
   "id": "ea3e2e88-e804-41a5-9d10-aa72ddd21986",
   "metadata": {},
   "source": [
    "#### Analysis"
   ]
  },
  {
   "cell_type": "code",
   "execution_count": 10,
   "id": "ef5ee2d5-54e3-4306-8679-16189b1e9fbe",
   "metadata": {},
   "outputs": [],
   "source": [
    "# get unique data set  per user, session, timestamp and page id combination\n",
    "df1 = pd.DataFrame(df.groupby(['user_id','session_id','timestamp','page_id']\n",
    ").agg('size'))\n",
    "df1.reset_index(inplace=True)"
   ]
  },
  {
   "cell_type": "code",
   "execution_count": 11,
   "id": "23b87f48-b94a-40cc-a314-99d476d32a9f",
   "metadata": {},
   "outputs": [
    {
     "name": "stdout",
     "output_type": "stream",
     "text": [
      "Number of rows in the full data set:   3297196. \n",
      "Number of rows in unique data set:     2740823.  \n",
      "Are both data sets of the same length: False.\n"
     ]
    }
   ],
   "source": [
    "print('Number of rows in the full data set:   %d. \\nNumber of rows in unique data set:     %d.  \\nAre both data sets of the same length: %s.'%(len(df), len(df1), len(df1)==len(df)))"
   ]
  },
  {
   "cell_type": "markdown",
   "id": "ba88a4e3-bd12-4d80-b8e3-4c13e49a02fe",
   "metadata": {},
   "source": [
    "#### Conclusion"
   ]
  },
  {
   "cell_type": "markdown",
   "id": "9eccd149-ce1b-4691-b7e7-63270dedbe3a",
   "metadata": {},
   "source": [
    "No, the data set is not unique per user, session, timestamp and page id combination."
   ]
  },
  {
   "cell_type": "markdown",
   "id": "170653c2-d9d0-4bea-b0c5-7ab63491cac2",
   "metadata": {},
   "source": [
    "### Why is the data set not unique per user, session, timestamp and page id combination?"
   ]
  },
  {
   "cell_type": "markdown",
   "id": "7d5a959f-6663-42ed-bd9d-3328063f13df",
   "metadata": {},
   "source": [
    "#### Analysis"
   ]
  },
  {
   "cell_type": "code",
   "execution_count": 12,
   "id": "4cc8f211-8627-458b-9f2d-1e6d4403d5f7",
   "metadata": {},
   "outputs": [
    {
     "name": "stdout",
     "output_type": "stream",
     "text": [
      "Number of non-unique rows: 273282 (per user, session, timestamp and page id combination).\n"
     ]
    }
   ],
   "source": [
    "print('Number of non-unique rows: %d (per user, session, timestamp and page id combination).'%sum(df1[0]>1))"
   ]
  },
  {
   "cell_type": "code",
   "execution_count": 13,
   "id": "c956cded-1ba3-4d46-8964-25ca46253ab3",
   "metadata": {},
   "outputs": [
    {
     "name": "stdout",
     "output_type": "stream",
     "text": [
      "Examples of non-unique rows (per user, session, timestamp and page id combination):\n"
     ]
    },
    {
     "data": {
      "text/html": [
       "<div>\n",
       "<style scoped>\n",
       "    .dataframe tbody tr th:only-of-type {\n",
       "        vertical-align: middle;\n",
       "    }\n",
       "\n",
       "    .dataframe tbody tr th {\n",
       "        vertical-align: top;\n",
       "    }\n",
       "\n",
       "    .dataframe thead th {\n",
       "        text-align: right;\n",
       "    }\n",
       "</style>\n",
       "<table border=\"1\" class=\"dataframe\">\n",
       "  <thead>\n",
       "    <tr style=\"text-align: right;\">\n",
       "      <th></th>\n",
       "      <th>user_id</th>\n",
       "      <th>session_id</th>\n",
       "      <th>timestamp</th>\n",
       "      <th>page_id</th>\n",
       "      <th>0</th>\n",
       "    </tr>\n",
       "  </thead>\n",
       "  <tbody>\n",
       "    <tr>\n",
       "      <th>7</th>\n",
       "      <td>++6W7NF0RJB5aoqbpgjbFi+Tk2U=</td>\n",
       "      <td>1</td>\n",
       "      <td>2022-02-27 20:53:49</td>\n",
       "      <td>3</td>\n",
       "      <td>2</td>\n",
       "    </tr>\n",
       "    <tr>\n",
       "      <th>10</th>\n",
       "      <td>++6W7NF0RJB5aoqbpgjbFi+Tk2U=</td>\n",
       "      <td>1</td>\n",
       "      <td>2022-02-27 20:54:36</td>\n",
       "      <td>4</td>\n",
       "      <td>2</td>\n",
       "    </tr>\n",
       "    <tr>\n",
       "      <th>13</th>\n",
       "      <td>++6W7NF0RJB5aoqbpgjbFi+Tk2U=</td>\n",
       "      <td>1</td>\n",
       "      <td>2022-02-27 20:54:44</td>\n",
       "      <td>5</td>\n",
       "      <td>5</td>\n",
       "    </tr>\n",
       "    <tr>\n",
       "      <th>17</th>\n",
       "      <td>++6W7NF0RJB5aoqbpgjbFi+Tk2U=</td>\n",
       "      <td>1</td>\n",
       "      <td>2022-02-27 20:55:26</td>\n",
       "      <td>7</td>\n",
       "      <td>2</td>\n",
       "    </tr>\n",
       "    <tr>\n",
       "      <th>34</th>\n",
       "      <td>++aQdeHnI6Sj71QMj8vsqzV5LUU=</td>\n",
       "      <td>3</td>\n",
       "      <td>2022-02-27 19:05:45</td>\n",
       "      <td>6</td>\n",
       "      <td>2</td>\n",
       "    </tr>\n",
       "    <tr>\n",
       "      <th>...</th>\n",
       "      <td>...</td>\n",
       "      <td>...</td>\n",
       "      <td>...</td>\n",
       "      <td>...</td>\n",
       "      <td>...</td>\n",
       "    </tr>\n",
       "    <tr>\n",
       "      <th>2740785</th>\n",
       "      <td>zytuflFuJXiO5TFPSLoBFLwxWJ0=</td>\n",
       "      <td>2</td>\n",
       "      <td>2022-02-18 17:45:37</td>\n",
       "      <td>38</td>\n",
       "      <td>4</td>\n",
       "    </tr>\n",
       "    <tr>\n",
       "      <th>2740786</th>\n",
       "      <td>zytuflFuJXiO5TFPSLoBFLwxWJ0=</td>\n",
       "      <td>2</td>\n",
       "      <td>2022-02-18 17:45:38</td>\n",
       "      <td>38</td>\n",
       "      <td>2</td>\n",
       "    </tr>\n",
       "    <tr>\n",
       "      <th>2740787</th>\n",
       "      <td>zytuflFuJXiO5TFPSLoBFLwxWJ0=</td>\n",
       "      <td>2</td>\n",
       "      <td>2022-02-18 17:45:39</td>\n",
       "      <td>38</td>\n",
       "      <td>4</td>\n",
       "    </tr>\n",
       "    <tr>\n",
       "      <th>2740794</th>\n",
       "      <td>zytuflFuJXiO5TFPSLoBFLwxWJ0=</td>\n",
       "      <td>2</td>\n",
       "      <td>2022-02-18 17:46:38</td>\n",
       "      <td>41</td>\n",
       "      <td>4</td>\n",
       "    </tr>\n",
       "    <tr>\n",
       "      <th>2740820</th>\n",
       "      <td>zzPB7rTNmMpTMHiyiop5fHe2Jkk=</td>\n",
       "      <td>1</td>\n",
       "      <td>2022-02-11 14:53:18</td>\n",
       "      <td>4</td>\n",
       "      <td>2</td>\n",
       "    </tr>\n",
       "  </tbody>\n",
       "</table>\n",
       "<p>273282 rows × 5 columns</p>\n",
       "</div>"
      ],
      "text/plain": [
       "                              user_id  session_id           timestamp  \\\n",
       "7        ++6W7NF0RJB5aoqbpgjbFi+Tk2U=           1 2022-02-27 20:53:49   \n",
       "10       ++6W7NF0RJB5aoqbpgjbFi+Tk2U=           1 2022-02-27 20:54:36   \n",
       "13       ++6W7NF0RJB5aoqbpgjbFi+Tk2U=           1 2022-02-27 20:54:44   \n",
       "17       ++6W7NF0RJB5aoqbpgjbFi+Tk2U=           1 2022-02-27 20:55:26   \n",
       "34       ++aQdeHnI6Sj71QMj8vsqzV5LUU=           3 2022-02-27 19:05:45   \n",
       "...                               ...         ...                 ...   \n",
       "2740785  zytuflFuJXiO5TFPSLoBFLwxWJ0=           2 2022-02-18 17:45:37   \n",
       "2740786  zytuflFuJXiO5TFPSLoBFLwxWJ0=           2 2022-02-18 17:45:38   \n",
       "2740787  zytuflFuJXiO5TFPSLoBFLwxWJ0=           2 2022-02-18 17:45:39   \n",
       "2740794  zytuflFuJXiO5TFPSLoBFLwxWJ0=           2 2022-02-18 17:46:38   \n",
       "2740820  zzPB7rTNmMpTMHiyiop5fHe2Jkk=           1 2022-02-11 14:53:18   \n",
       "\n",
       "         page_id  0  \n",
       "7              3  2  \n",
       "10             4  2  \n",
       "13             5  5  \n",
       "17             7  2  \n",
       "34             6  2  \n",
       "...          ... ..  \n",
       "2740785       38  4  \n",
       "2740786       38  2  \n",
       "2740787       38  4  \n",
       "2740794       41  4  \n",
       "2740820        4  2  \n",
       "\n",
       "[273282 rows x 5 columns]"
      ]
     },
     "execution_count": 13,
     "metadata": {},
     "output_type": "execute_result"
    }
   ],
   "source": [
    "print('Examples of non-unique rows (per user, session, timestamp and page id combination):')\n",
    "df1.loc[df1.index[df1[0]>1],:]"
   ]
  },
  {
   "cell_type": "code",
   "execution_count": 14,
   "id": "f14ffd64-b9ba-4b2e-867d-f41f91705063",
   "metadata": {},
   "outputs": [],
   "source": [
    "# clean workspace\n",
    "del df1"
   ]
  },
  {
   "cell_type": "code",
   "execution_count": 15,
   "id": "186036a1-1ef5-4b96-972a-caac86ae3ece",
   "metadata": {},
   "outputs": [
    {
     "name": "stdout",
     "output_type": "stream",
     "text": [
      "Data of example of non-unique rows (per user, session, timestamp and page id combination):\n"
     ]
    },
    {
     "data": {
      "text/html": [
       "<div>\n",
       "<style scoped>\n",
       "    .dataframe tbody tr th:only-of-type {\n",
       "        vertical-align: middle;\n",
       "    }\n",
       "\n",
       "    .dataframe tbody tr th {\n",
       "        vertical-align: top;\n",
       "    }\n",
       "\n",
       "    .dataframe thead th {\n",
       "        text-align: right;\n",
       "    }\n",
       "</style>\n",
       "<table border=\"1\" class=\"dataframe\">\n",
       "  <thead>\n",
       "    <tr style=\"text-align: right;\">\n",
       "      <th></th>\n",
       "      <th>index</th>\n",
       "      <th>user_id</th>\n",
       "      <th>session_id</th>\n",
       "      <th>timestamp</th>\n",
       "      <th>device</th>\n",
       "      <th>page_id</th>\n",
       "      <th>page_name</th>\n",
       "      <th>hotel_uuid</th>\n",
       "      <th>booked</th>\n",
       "      <th>weekday</th>\n",
       "      <th>hour</th>\n",
       "    </tr>\n",
       "  </thead>\n",
       "  <tbody>\n",
       "    <tr>\n",
       "      <th>695</th>\n",
       "      <td>3237418</td>\n",
       "      <td>++i4iUzUtbf2GFsphbv1ZN81ieo=</td>\n",
       "      <td>22</td>\n",
       "      <td>2022-02-22 10:49:08</td>\n",
       "      <td>desktop</td>\n",
       "      <td>14</td>\n",
       "      <td>/offerlist</td>\n",
       "      <td>d4f08d1f-22a6-3b66-bf74-f15a41c7a979</td>\n",
       "      <td>0</td>\n",
       "      <td>Tuesday</td>\n",
       "      <td>10</td>\n",
       "    </tr>\n",
       "    <tr>\n",
       "      <th>696</th>\n",
       "      <td>3237421</td>\n",
       "      <td>++i4iUzUtbf2GFsphbv1ZN81ieo=</td>\n",
       "      <td>22</td>\n",
       "      <td>2022-02-22 10:49:08</td>\n",
       "      <td>desktop</td>\n",
       "      <td>14</td>\n",
       "      <td>/offerlist</td>\n",
       "      <td>5fd59f56-87e6-4b57-acfc-0c27d7a23299</td>\n",
       "      <td>0</td>\n",
       "      <td>Tuesday</td>\n",
       "      <td>10</td>\n",
       "    </tr>\n",
       "    <tr>\n",
       "      <th>697</th>\n",
       "      <td>3237422</td>\n",
       "      <td>++i4iUzUtbf2GFsphbv1ZN81ieo=</td>\n",
       "      <td>22</td>\n",
       "      <td>2022-02-22 10:49:08</td>\n",
       "      <td>desktop</td>\n",
       "      <td>14</td>\n",
       "      <td>/offerlist</td>\n",
       "      <td>58a74c25-d55b-3886-a066-0578a985394a</td>\n",
       "      <td>0</td>\n",
       "      <td>Tuesday</td>\n",
       "      <td>10</td>\n",
       "    </tr>\n",
       "    <tr>\n",
       "      <th>698</th>\n",
       "      <td>3237423</td>\n",
       "      <td>++i4iUzUtbf2GFsphbv1ZN81ieo=</td>\n",
       "      <td>22</td>\n",
       "      <td>2022-02-22 10:49:08</td>\n",
       "      <td>desktop</td>\n",
       "      <td>14</td>\n",
       "      <td>/offerlist</td>\n",
       "      <td>58a74c25-d55b-3886-a066-0578a985394a</td>\n",
       "      <td>0</td>\n",
       "      <td>Tuesday</td>\n",
       "      <td>10</td>\n",
       "    </tr>\n",
       "    <tr>\n",
       "      <th>699</th>\n",
       "      <td>3237426</td>\n",
       "      <td>++i4iUzUtbf2GFsphbv1ZN81ieo=</td>\n",
       "      <td>22</td>\n",
       "      <td>2022-02-22 10:49:08</td>\n",
       "      <td>desktop</td>\n",
       "      <td>14</td>\n",
       "      <td>/offerlist</td>\n",
       "      <td>5fd59f56-87e6-4b57-acfc-0c27d7a23299</td>\n",
       "      <td>0</td>\n",
       "      <td>Tuesday</td>\n",
       "      <td>10</td>\n",
       "    </tr>\n",
       "    <tr>\n",
       "      <th>700</th>\n",
       "      <td>3237427</td>\n",
       "      <td>++i4iUzUtbf2GFsphbv1ZN81ieo=</td>\n",
       "      <td>22</td>\n",
       "      <td>2022-02-22 10:49:08</td>\n",
       "      <td>desktop</td>\n",
       "      <td>14</td>\n",
       "      <td>/offerlist</td>\n",
       "      <td>58a74c25-d55b-3886-a066-0578a985394a</td>\n",
       "      <td>0</td>\n",
       "      <td>Tuesday</td>\n",
       "      <td>10</td>\n",
       "    </tr>\n",
       "  </tbody>\n",
       "</table>\n",
       "</div>"
      ],
      "text/plain": [
       "       index                       user_id  session_id           timestamp  \\\n",
       "695  3237418  ++i4iUzUtbf2GFsphbv1ZN81ieo=          22 2022-02-22 10:49:08   \n",
       "696  3237421  ++i4iUzUtbf2GFsphbv1ZN81ieo=          22 2022-02-22 10:49:08   \n",
       "697  3237422  ++i4iUzUtbf2GFsphbv1ZN81ieo=          22 2022-02-22 10:49:08   \n",
       "698  3237423  ++i4iUzUtbf2GFsphbv1ZN81ieo=          22 2022-02-22 10:49:08   \n",
       "699  3237426  ++i4iUzUtbf2GFsphbv1ZN81ieo=          22 2022-02-22 10:49:08   \n",
       "700  3237427  ++i4iUzUtbf2GFsphbv1ZN81ieo=          22 2022-02-22 10:49:08   \n",
       "\n",
       "      device  page_id   page_name                            hotel_uuid  \\\n",
       "695  desktop       14  /offerlist  d4f08d1f-22a6-3b66-bf74-f15a41c7a979   \n",
       "696  desktop       14  /offerlist  5fd59f56-87e6-4b57-acfc-0c27d7a23299   \n",
       "697  desktop       14  /offerlist  58a74c25-d55b-3886-a066-0578a985394a   \n",
       "698  desktop       14  /offerlist  58a74c25-d55b-3886-a066-0578a985394a   \n",
       "699  desktop       14  /offerlist  5fd59f56-87e6-4b57-acfc-0c27d7a23299   \n",
       "700  desktop       14  /offerlist  58a74c25-d55b-3886-a066-0578a985394a   \n",
       "\n",
       "     booked  weekday  hour  \n",
       "695       0  Tuesday    10  \n",
       "696       0  Tuesday    10  \n",
       "697       0  Tuesday    10  \n",
       "698       0  Tuesday    10  \n",
       "699       0  Tuesday    10  \n",
       "700       0  Tuesday    10  "
      ]
     },
     "execution_count": 15,
     "metadata": {},
     "output_type": "execute_result"
    }
   ],
   "source": [
    "# pick an example of non-unique rows to review it further in detail \n",
    "print('Data of example of non-unique rows (per user, session, timestamp and page id combination):')\n",
    "df[(df[\"user_id\"]=='++i4iUzUtbf2GFsphbv1ZN81ieo=' )& (df[\"session_id\"]==22) & (df[\"timestamp\"] == '2022-02-22 10:49:08')]"
   ]
  },
  {
   "cell_type": "markdown",
   "id": "17cfc621-a3fb-4691-af9a-f6deceaa8a87",
   "metadata": {},
   "source": [
    "#### Conclusion"
   ]
  },
  {
   "cell_type": "markdown",
   "id": "abb81da8-aaad-4e57-96c4-66017664ea3e",
   "metadata": {},
   "source": [
    "There can be multiple rows in the data set per user, session, timestamp and page id combination. \n",
    "For example in the case different hotels or the same hotel are listed several times on the same offlist page."
   ]
  },
  {
   "cell_type": "markdown",
   "id": "12405e14-e930-4b85-aa06-c351da5675c1",
   "metadata": {},
   "source": [
    "## User activity"
   ]
  },
  {
   "cell_type": "markdown",
   "id": "3abcd4f7-c85d-4035-a44a-fa226a0d036f",
   "metadata": {},
   "source": [
    "### User activity per device type"
   ]
  },
  {
   "cell_type": "markdown",
   "id": "ba10cc7b-88e5-4629-a45f-f3bf65718bad",
   "metadata": {},
   "source": [
    "#### Analysis"
   ]
  },
  {
   "cell_type": "code",
   "execution_count": 16,
   "id": "5a65be04-c543-44db-823b-91b98dfd53cb",
   "metadata": {},
   "outputs": [
    {
     "data": {
      "image/png": "[encoded data removed]",
      "text/plain": [
       "<Figure size 640x480 with 1 Axes>"
      ]
     },
     "metadata": {},
     "output_type": "display_data"
    }
   ],
   "source": [
    "# Create frequency plot of user activity per device type and grouped by booking user activity and non-booking user activity:\n",
    "plot_rel_freq_by_group(df, 'device', 'booked', title='Device type user activity')"
   ]
  },
  {
   "cell_type": "markdown",
   "id": "a1fde1c4-dea8-4e55-a55d-e9f6fc2f37ec",
   "metadata": {},
   "source": [
    "#### Assumption"
   ]
  },
  {
   "cell_type": "markdown",
   "id": "e0effbe9-f2af-4dc9-a2ab-e8e59dba56ad",
   "metadata": {},
   "source": [
    "There are no structural technical differences of how clickstream data is produced per device type."
   ]
  },
  {
   "cell_type": "markdown",
   "id": "b3df9c27-1674-4931-92ee-55f49a331a7e",
   "metadata": {},
   "source": [
    "#### Conclusion"
   ]
  },
  {
   "cell_type": "markdown",
   "id": "681adde6-433f-49dc-a408-9ecd5e30b8f0",
   "metadata": {},
   "source": [
    "1. Desktop is by far the most common device type, mobile is also often used and tablet less often but still noticeably often.\n",
    "1. There is no device type that is predominately used for booking or browsing behavior (without-booking)."
   ]
  },
  {
   "cell_type": "markdown",
   "id": "f317cf2c-0087-4eea-867b-0b705300c21b",
   "metadata": {},
   "source": [
    "### User activity per page type"
   ]
  },
  {
   "cell_type": "markdown",
   "id": "67d65224-a725-4856-bbfe-3236ea9f25bc",
   "metadata": {},
   "source": [
    "#### Analysis"
   ]
  },
  {
   "cell_type": "code",
   "execution_count": 17,
   "id": "ec935081-4fba-44a1-9134-2b06d0c11e50",
   "metadata": {},
   "outputs": [
    {
     "data": {
      "image/png": "[encoded data removed]",
      "text/plain": [
       "<Figure size 640x480 with 1 Axes>"
      ]
     },
     "metadata": {},
     "output_type": "display_data"
    }
   ],
   "source": [
    "# Create frequency plot of user activity per pages types (page name). \n",
    "# We consider here only the top 20 most used page types due to their relevance and for a concise representation of the results.  \n",
    "plot_rel_freq(df, 'page_name', title='Page names with top 20 user activity', top_x = 20)"
   ]
  },
  {
   "cell_type": "markdown",
   "id": "aa1f6b5a-fc93-4bfa-b5b9-17bfb29c73d7",
   "metadata": {},
   "source": [
    "#### Conclusion"
   ]
  },
  {
   "cell_type": "markdown",
   "id": "23df08c7-ed44-4d2a-a0d7-6ee2b49052e7",
   "metadata": {},
   "source": [
    "Offerlist is with almost 50% the by far most common page type / page name.\n",
    "The top 8 page names represent roughly 90% of cumulative frequency of all page names.\n",
    "There is however a long tail of seldom appearing page names (400+)."
   ]
  },
  {
   "cell_type": "markdown",
   "id": "28ec3daa-2165-4cd8-a170-290c0de8c1df",
   "metadata": {},
   "source": [
    "### User activity per hotel"
   ]
  },
  {
   "cell_type": "markdown",
   "id": "a02a4f47-3b26-4264-9f3c-a79001d9ed72",
   "metadata": {},
   "source": [
    "#### Analysis"
   ]
  },
  {
   "cell_type": "code",
   "execution_count": 18,
   "id": "cd97d400-e586-411c-abaf-6760214801d4",
   "metadata": {},
   "outputs": [
    {
     "data": {
      "image/png": "[encoded data removed]",
      "text/plain": [
       "<Figure size 640x480 with 1 Axes>"
      ]
     },
     "metadata": {},
     "output_type": "display_data"
    }
   ],
   "source": [
    "# Create frequency plot of user activity per hotel (hotel uuid) and grouped by booking user activity and non-booking user activity.\n",
    "# We consider here only the top 20 most frequent hotels due to their relevance and for a concise representation of the results.  \n",
    "plot_rel_freq_by_group(df, 'hotel_uuid', 'booked', title='Hotels with top 20 user activity', top_x = 20)"
   ]
  },
  {
   "cell_type": "markdown",
   "id": "475dc396-676d-4c57-93cc-0dd8c7f64004",
   "metadata": {},
   "source": [
    "#### Conclusion"
   ]
  },
  {
   "cell_type": "markdown",
   "id": "310c794f-ed1f-4511-b7a1-2ac27ef1dbe9",
   "metadata": {},
   "source": [
    "1. The most common hotels appear relatively similar often and their overall frequency is relatively low. __This indicates that there no domoninating hotels that are appearing all the time compared to others.__\n",
    "1. We see that some hotels have a relatively higher (or lower) frequency of booking compared the browsing behavior (without-booking) of users on their pages. __This means that these hotels perform relatively well (worse) in converting users compared to other hotels.__"
   ]
  },
  {
   "cell_type": "markdown",
   "id": "f540b141-0336-46c7-b4b7-1e42830796f6",
   "metadata": {},
   "source": [
    "#### Possible further analysis"
   ]
  },
  {
   "cell_type": "markdown",
   "id": "93810bb8-ed02-4f77-abd3-9c9f22f0868d",
   "metadata": {},
   "source": [
    "Find the, e.g., top 20 hotels where the __gap between the relative frequency of browsing (without booking) and booking is the highest__ or higher than a threshold. \n",
    "These hotel offerings have a __high potential__ and it is worthwhile to __indentify what is blocking__ them to be better at converting users.<br>\n",
    "Similarly, find the, e.g., top 20 hotels where the __gap between the relative frequency of booking and browsing (without booking) is the highest__ or higher than a threshold. \n",
    "These hotel offerings have are __overforming__ and it is worthwhile to identify what is makeing them excel at converting users."
   ]
  },
  {
   "cell_type": "markdown",
   "id": "8c7fcf56-8bf0-4fe1-b9d3-102f0749586e",
   "metadata": {},
   "source": [
    "#### Possible business strategy implications"
   ]
  },
  {
   "cell_type": "markdown",
   "id": "7ca454eb-2d3d-40fc-ba45-35457dd3ffd2",
   "metadata": {},
   "source": [
    "1. __Offer__ the hotels with __high potential__ (automatic) __recommendations__ what to do to increase conversion.\n",
    "1. __Support__ __overforming__ hotels to __incease their reach and attract more users__ (e.g., increase their visibilty in the offerlist or grant them a special icon on the hotel detail page or on their offerlist representation)"
   ]
  },
  {
   "cell_type": "markdown",
   "id": "3bb7dd75-dfe9-4d14-828a-39dd32f17dd1",
   "metadata": {},
   "source": [
    "### User activity per day of the week"
   ]
  },
  {
   "cell_type": "markdown",
   "id": "bf3028fe-41b5-40f4-89be-95505e0123d7",
   "metadata": {},
   "source": [
    "#### Analysis"
   ]
  },
  {
   "cell_type": "code",
   "execution_count": 19,
   "id": "ffacb15d-ac5f-455f-80fd-a44f3dd4c836",
   "metadata": {},
   "outputs": [
    {
     "data": {
      "image/png": "[encoded data removed]",
      "text/plain": [
       "<Figure size 640x480 with 1 Axes>"
      ]
     },
     "metadata": {},
     "output_type": "display_data"
    }
   ],
   "source": [
    "# Create frequency plot of user activity per day of the week and grouped by booking user activity and non-booking user activity.\n",
    "plot_rel_freq_by_group(df, 'weekday', 'booked', title='Days with user activity during a week', custom_order= ['Monday','Tuesday','Wednesday','Thursday','Friday','Saturday','Sunday'])"
   ]
  },
  {
   "cell_type": "markdown",
   "id": "22c51211-0744-417c-8b43-65e2fb8ce70a",
   "metadata": {},
   "source": [
    "#### Conclusion"
   ]
  },
  {
   "cell_type": "markdown",
   "id": "2a19b003-852c-4d7f-9a93-f5d8bffa0a0c",
   "metadata": {},
   "source": [
    "Sunday is the most important day in a week for both, booking and browsing (without-booking). The other days are relatively similar important for booking and browsing (without-booking). Whereas, Saturday  is relatively more important for browsing (without-booking) and Monday for booking."
   ]
  },
  {
   "cell_type": "markdown",
   "id": "94e5bf23-f0e8-423a-809a-3765357b6786",
   "metadata": {},
   "source": [
    "#### Possible business strategy implications"
   ]
  },
  {
   "cell_type": "markdown",
   "id": "bd7879fb-1630-4f4b-a8d3-733ec60859be",
   "metadata": {},
   "source": [
    "1. __Support__ users to make __booking__ decision __on Friday and Saturday__ (e.g., relaxed cancellation policy, reservation). \n",
    "1. Foster __Sunday as peak browsing and booking day__ (e.g., with special offers, new deals, newsletter posts, external advertising).\n",
    "1. Support __Monday as booking day__ (e.g., with special last minute promotions or deals)."
   ]
  },
  {
   "cell_type": "markdown",
   "id": "7c888314-89f3-4c7a-a1c9-6529969ff88b",
   "metadata": {},
   "source": [
    "### User activity per hour of the day"
   ]
  },
  {
   "cell_type": "markdown",
   "id": "280690e3-c525-4806-8740-ef623db08131",
   "metadata": {},
   "source": [
    "#### Analysis"
   ]
  },
  {
   "cell_type": "code",
   "execution_count": 20,
   "id": "1a9a531c-f775-4bb7-9d2d-482672ff85fa",
   "metadata": {},
   "outputs": [
    {
     "data": {
      "image/png": "[encoded data removed]",
      "text/plain": [
       "<Figure size 640x480 with 1 Axes>"
      ]
     },
     "metadata": {},
     "output_type": "display_data"
    }
   ],
   "source": [
    "# Create frequency plot of user activity per hour of the day and grouped by booking user activity and non-booking user activity.\n",
    "plot_rel_freq_by_group(df, 'hour', 'booked', title='Hours of user activity during a day')"
   ]
  },
  {
   "cell_type": "markdown",
   "id": "ad39bbde-b29c-4713-a880-bd1ed4e77a6a",
   "metadata": {},
   "source": [
    "#### Conclusion"
   ]
  },
  {
   "cell_type": "markdown",
   "id": "7998bec4-adc8-4574-af2a-b42f0fe8c638",
   "metadata": {},
   "source": [
    "1. __Booking and browsing (without-booking)__ of users increase strongly from 6 am to 11 am, are constantly high from 11 am to 3 pm, and __peak from 4 pm to 9 pm, with the highest peak at 8pm.__\n",
    "1. There is a tendency for relatively __more browsing (without-booking) during the earlier hours of a day__ (until 5 pm) and a relatively __more booking during the later hours of a day (until 11 pm)__."
   ]
  },
  {
   "cell_type": "markdown",
   "id": "dd72fe9e-c943-46a2-9db5-9a09e72dd49a",
   "metadata": {},
   "source": [
    "#### Possible business strategy implications"
   ]
  },
  {
   "cell_type": "markdown",
   "id": "53f7ab2f-4439-4a07-91c1-d12b799a6372",
   "metadata": {},
   "source": [
    "1. __Support__ users to make __booking__ decision __earlier during the day__ (e.g., with short time offers and reservation with booking with same day cancellation). \n",
    "1. Foster __peak time and later hours booking__ (e.g., with late day special offers and deals until the end of day)."
   ]
  },
  {
   "cell_type": "markdown",
   "id": "78ecf9e9-5a43-4f6f-b530-3e9fefa2b105",
   "metadata": {},
   "source": [
    "## Customer journey"
   ]
  },
  {
   "cell_type": "markdown",
   "id": "1c39fc49-b164-4c78-a668-011e35f26116",
   "metadata": {},
   "source": [
    "### Add additional customer journey related metrics"
   ]
  },
  {
   "cell_type": "code",
   "execution_count": 21,
   "id": "924205cb-b234-42b3-994f-f056ac09f618",
   "metadata": {},
   "outputs": [],
   "source": [
    "# Add indicator variable whether observation is before the first booking of a user:\n",
    "df['is_before_first_booking'] = (df.groupby(['user_id'])['booked'].cumsum() == 0 ) * 1"
   ]
  },
  {
   "cell_type": "code",
   "execution_count": 22,
   "id": "2d8531b6-5bf4-40cd-adfc-bf3d6b80ce76",
   "metadata": {},
   "outputs": [],
   "source": [
    "# Add indicator variable whether a user booked at least once:\n",
    "df['is_buyer'] = df.groupby(['user_id'])['booked'].transform(max) "
   ]
  },
  {
   "cell_type": "markdown",
   "id": "66036478-23e8-4b32-b5de-5af79bfad75b",
   "metadata": {},
   "source": [
    "### Consideration period"
   ]
  },
  {
   "cell_type": "markdown",
   "id": "49f04436-d7b7-4672-af07-5a4280c4e07f",
   "metadata": {},
   "source": [
    "#### Definition"
   ]
  },
  {
   "cell_type": "markdown",
   "id": "913b7b0c-eca0-4aac-a420-0528674506dc",
   "metadata": {},
   "source": [
    "The consideration period is defined here as the time from the first observed activity of a user until his first booking. <br> \n",
    "For non-booking users, it is the time from first activity of the user until his last observed activity.<br>\n",
    "The consideration period represents the window of opportunity in which a user forms the purchase decision and in which the booking platform and hotel offerings have a chance to convert the user to book."
   ]
  },
  {
   "cell_type": "markdown",
   "id": "dc3c8b9f-db73-47af-8481-a89de9da5f43",
   "metadata": {},
   "source": [
    "#### Assumptions"
   ]
  },
  {
   "cell_type": "markdown",
   "id": "191f4f00-5b0c-4702-b5f2-802cc6f9e0da",
   "metadata": {},
   "source": [
    "1. The user __activity data is complete__ and there is __n__o relevant user activity __outside__ the booking platform website and the __dataset__ under consideration. \n",
    "1. We __ignore__ the fact that the __dataset__ under consideration __has a beginning and an end__. Both can shorten the compute consideration period and we may find, e.g., that users who did not book in the time period of the dataset under consideration may book later, etc.\n",
    "1. User __activity can be tracked__ and also, e.g., across days and browsing activity sesssions. \n",
    "\n",
    "In the case the assumptions from above are violated, the __measured consideration period__ is __shorter than__ the __actual one__."
   ]
  },
  {
   "cell_type": "markdown",
   "id": "9bcd9635-71c2-4a6d-95ae-af8a429d3498",
   "metadata": {},
   "source": [
    "#### Analysis"
   ]
  },
  {
   "cell_type": "code",
   "execution_count": 23,
   "id": "a216202a-5874-4d57-af9e-e60978a11884",
   "metadata": {},
   "outputs": [],
   "source": [
    "# Add variable for the consideration period until first booking:\n",
    "time0 = df['timestamp'][0]\n",
    "# initialize the consideration_period variable\n",
    "df['consideration_period'] = df['timestamp']\n",
    "# set timestamps after the first booking to NaN to ignore them subsequently:\n",
    "df.loc[(df['is_before_first_booking'] ==0) & (df['is_buyer']==1),'consideration_period'] = np.NaN\n",
    "# compute the consideration period until first booking\n",
    "df['consideration_period'] = df.groupby(['user_id'])['consideration_period'].transform(lambda x: x.max() - x.min()+time0)-time0"
   ]
  },
  {
   "cell_type": "code",
   "execution_count": 24,
   "id": "d14fb269-398a-4d83-9a55-cfe80285f6dd",
   "metadata": {},
   "outputs": [
    {
     "data": {
      "text/html": [
       "<div>\n",
       "<style scoped>\n",
       "    .dataframe tbody tr th:only-of-type {\n",
       "        vertical-align: middle;\n",
       "    }\n",
       "\n",
       "    .dataframe tbody tr th {\n",
       "        vertical-align: top;\n",
       "    }\n",
       "\n",
       "    .dataframe thead th {\n",
       "        text-align: right;\n",
       "    }\n",
       "</style>\n",
       "<table border=\"1\" class=\"dataframe\">\n",
       "  <thead>\n",
       "    <tr style=\"text-align: right;\">\n",
       "      <th></th>\n",
       "      <th>Booking users</th>\n",
       "      <th>Non-booking users</th>\n",
       "    </tr>\n",
       "  </thead>\n",
       "  <tbody>\n",
       "    <tr>\n",
       "      <th>count</th>\n",
       "      <td>8744</td>\n",
       "      <td>11636</td>\n",
       "    </tr>\n",
       "    <tr>\n",
       "      <th>mean</th>\n",
       "      <td>2 days 13:36:59.185269899</td>\n",
       "      <td>1 days 03:27:32.555345479</td>\n",
       "    </tr>\n",
       "    <tr>\n",
       "      <th>std</th>\n",
       "      <td>4 days 22:15:39.681867542</td>\n",
       "      <td>3 days 21:08:14.871832788</td>\n",
       "    </tr>\n",
       "    <tr>\n",
       "      <th>min</th>\n",
       "      <td>0 days 00:00:46</td>\n",
       "      <td>0 days 00:00:00</td>\n",
       "    </tr>\n",
       "    <tr>\n",
       "      <th>25%</th>\n",
       "      <td>0 days 00:25:17.500000</td>\n",
       "      <td>0 days 00:00:00</td>\n",
       "    </tr>\n",
       "    <tr>\n",
       "      <th>50%</th>\n",
       "      <td>0 days 01:40:57.500000</td>\n",
       "      <td>0 days 00:01:44</td>\n",
       "    </tr>\n",
       "    <tr>\n",
       "      <th>75%</th>\n",
       "      <td>2 days 19:22:34</td>\n",
       "      <td>0 days 00:19:52</td>\n",
       "    </tr>\n",
       "    <tr>\n",
       "      <th>max</th>\n",
       "      <td>27 days 04:29:22</td>\n",
       "      <td>27 days 11:46:16</td>\n",
       "    </tr>\n",
       "  </tbody>\n",
       "</table>\n",
       "</div>"
      ],
      "text/plain": [
       "                   Booking users          Non-booking users\n",
       "count                       8744                      11636\n",
       "mean   2 days 13:36:59.185269899  1 days 03:27:32.555345479\n",
       "std    4 days 22:15:39.681867542  3 days 21:08:14.871832788\n",
       "min              0 days 00:00:46            0 days 00:00:00\n",
       "25%       0 days 00:25:17.500000            0 days 00:00:00\n",
       "50%       0 days 01:40:57.500000            0 days 00:01:44\n",
       "75%              2 days 19:22:34            0 days 00:19:52\n",
       "max             27 days 04:29:22           27 days 11:46:16"
      ]
     },
     "execution_count": 24,
     "metadata": {},
     "output_type": "execute_result"
    }
   ],
   "source": [
    "# print the statistics:\n",
    "get_description(df,'consideration_period')"
   ]
  },
  {
   "cell_type": "code",
   "execution_count": 25,
   "id": "6b961f9d-3de2-4b40-8d1e-fbfd8e15b3e2",
   "metadata": {},
   "outputs": [
    {
     "data": {
      "text/plain": [
       "0.667693661971831"
      ]
     },
     "execution_count": 25,
     "metadata": {},
     "output_type": "execute_result"
    }
   ],
   "source": [
    "# get rate of buyers from users with consideration period of 1 day or longer:\n",
    "df1 = df[['user_id','consideration_period','is_buyer']].drop_duplicates()\n",
    "df1.loc[df1.consideration_period >='1 days','is_buyer'].mean()"
   ]
  },
  {
   "cell_type": "code",
   "execution_count": 26,
   "id": "fc5cf0ae-2778-4cee-b34e-41693e8839bb",
   "metadata": {},
   "outputs": [
    {
     "data": {
      "text/plain": [
       "0.12976968030250946"
      ]
     },
     "execution_count": 26,
     "metadata": {},
     "output_type": "execute_result"
    }
   ],
   "source": [
    "# get rate of non-booking users with consideration period of 1 day or longer:\n",
    "np.mean(df1[df1.is_buyer==0].consideration_period >='1 days') "
   ]
  },
  {
   "cell_type": "markdown",
   "id": "ca8bc34c-c280-4c74-933f-32b8a4677749",
   "metadata": {},
   "source": [
    "#### Conclusion"
   ]
  },
  {
   "cell_type": "markdown",
   "id": "b295cc3e-c01b-4317-88b9-7d6213f68943",
   "metadata": {},
   "source": [
    "1. We see that the __consideration period is highly skewed__: There many booking users who have a relatively short consideration period but others with a considerable long period. We find this when comparing the relatively large mean value and small median value (or the big difference between the 25% and the 75% quartile).\n",
    "1. The __consideration period for non-booking__ users is overall __very short__. \n",
    "1. __67%__ of users with a __consideration period of one day or longer are booking__. __13% of the non-booking users__ have a consideration period of one day or more. This indicates a __potential__ for converting these users."
   ]
  },
  {
   "cell_type": "markdown",
   "id": "6a49e483-0e2e-4c27-bccb-4916de3d9a81",
   "metadata": {},
   "source": [
    "#### Possible business strategy implication"
   ]
  },
  {
   "cell_type": "markdown",
   "id": "577505df-4578-41e0-b4a6-f953bdbba4ed",
   "metadata": {},
   "source": [
    "Use __re-marketing__, etc. to support users who did not convert on the first day but have an consideration period above a certain threshold (e.g., 1 day)."
   ]
  },
  {
   "cell_type": "markdown",
   "id": "bc736a8e-0947-423c-8123-bb8e9dc389c4",
   "metadata": {},
   "source": [
    "### Dwell time on pages"
   ]
  },
  {
   "cell_type": "markdown",
   "id": "c43242e3-3c09-47e4-92e8-c142de005ede",
   "metadata": {},
   "source": [
    "#### Definition"
   ]
  },
  {
   "cell_type": "markdown",
   "id": "37525ae9-0fc2-4ad0-84c4-4cfdbf804592",
   "metadata": {},
   "source": [
    "Dwell time on pages is defined as the time a user spends on website pages with a given page id.\n",
    "This is, it consists of the time a user is browsing, booking and collecting information about hotel offerings.\n",
    "Dwell time represents a measure of the information need a user has to complete the booking decision."
   ]
  },
  {
   "cell_type": "markdown",
   "id": "a97c0b19-060d-498f-8ebb-92302de92475",
   "metadata": {},
   "source": [
    "#### Assumptions"
   ]
  },
  {
   "cell_type": "markdown",
   "id": "5c5b4253-9c1d-41d8-a504-b54b5c9ea867",
   "metadata": {},
   "source": [
    "1. __Analogous__ to the ones from __above__ for the consideration period.\n",
    "1. __Multi-tab browsing__ does __not influence__ the correctness of the data under consideration.\n",
    "1. Differences of __page rendering__ times are the same for all page types and/or __can be ignored__."
   ]
  },
  {
   "cell_type": "markdown",
   "id": "0300b9f3-b4a5-4f9b-a6c8-dfa27ef20353",
   "metadata": {},
   "source": [
    "#### Analysis"
   ]
  },
  {
   "cell_type": "code",
   "execution_count": 27,
   "id": "c38d3e81-ad52-4b02-9cb4-7c7cd471a413",
   "metadata": {},
   "outputs": [],
   "source": [
    "# Add variable for the dwell time until first booking:\n",
    "time0 = df['timestamp'][0]\n",
    "# initialize the dwell_time variable\n",
    "df['dwell_time'] = df['timestamp']\n",
    "# set timestamps after the first booking to NaN to ignore them subsequently:\n",
    "df.loc[(df['is_before_first_booking'] ==0) & (df['is_buyer']==1),'dwell_time'] = np.NaN\n",
    "# compute the dwell time per session:\n",
    "#df['dwell_time_session'] = df.groupby(['user_id','session_id'])['dwell_time'].transform(lambda x: x.max() - x.min()+time0)-time0\n",
    "dwell_time_session = df.groupby(['user_id','session_id'])['dwell_time'].agg(lambda x: x.max() - x.min()+time0)-time0"
   ]
  },
  {
   "cell_type": "code",
   "execution_count": 28,
   "id": "dff53c50-3c7b-4520-b2b7-6100f985edcf",
   "metadata": {},
   "outputs": [],
   "source": [
    "# compute the dwell time per user:\n",
    "dwell_time_user = pd.DataFrame(dwell_time_session.groupby(['user_id']).sum()); dwell_time_user.columns = ['total_dwell_time']; dwell_time_user.reset_index(inplace=True)"
   ]
  },
  {
   "cell_type": "code",
   "execution_count": 29,
   "id": "13140257-365f-49a7-9ec1-0ebbb2e1a29a",
   "metadata": {},
   "outputs": [],
   "source": [
    "# insert the dwell time per user into the dataframe df: \n",
    "df = pd.merge(df,dwell_time_user, left_on=['user_id'], right_on=['user_id'], how='inner')"
   ]
  },
  {
   "cell_type": "code",
   "execution_count": 30,
   "id": "4c2bb406-a76b-4773-b236-99478d9d864b",
   "metadata": {},
   "outputs": [
    {
     "data": {
      "text/html": [
       "<div>\n",
       "<style scoped>\n",
       "    .dataframe tbody tr th:only-of-type {\n",
       "        vertical-align: middle;\n",
       "    }\n",
       "\n",
       "    .dataframe tbody tr th {\n",
       "        vertical-align: top;\n",
       "    }\n",
       "\n",
       "    .dataframe thead th {\n",
       "        text-align: right;\n",
       "    }\n",
       "</style>\n",
       "<table border=\"1\" class=\"dataframe\">\n",
       "  <thead>\n",
       "    <tr style=\"text-align: right;\">\n",
       "      <th></th>\n",
       "      <th>Booking users</th>\n",
       "      <th>Non-booking users</th>\n",
       "    </tr>\n",
       "  </thead>\n",
       "  <tbody>\n",
       "    <tr>\n",
       "      <th>count</th>\n",
       "      <td>8744</td>\n",
       "      <td>11636</td>\n",
       "    </tr>\n",
       "    <tr>\n",
       "      <th>mean</th>\n",
       "      <td>0 days 01:28:26.156107044</td>\n",
       "      <td>0 days 00:11:32.701701615</td>\n",
       "    </tr>\n",
       "    <tr>\n",
       "      <th>std</th>\n",
       "      <td>0 days 02:13:44.950759102</td>\n",
       "      <td>0 days 00:43:10.613271162</td>\n",
       "    </tr>\n",
       "    <tr>\n",
       "      <th>min</th>\n",
       "      <td>0 days 00:00:41</td>\n",
       "      <td>0 days 00:00:00</td>\n",
       "    </tr>\n",
       "    <tr>\n",
       "      <th>25%</th>\n",
       "      <td>0 days 00:20:34</td>\n",
       "      <td>0 days 00:00:00</td>\n",
       "    </tr>\n",
       "    <tr>\n",
       "      <th>50%</th>\n",
       "      <td>0 days 00:45:22</td>\n",
       "      <td>0 days 00:01:18</td>\n",
       "    </tr>\n",
       "    <tr>\n",
       "      <th>75%</th>\n",
       "      <td>0 days 01:39:32.250000</td>\n",
       "      <td>0 days 00:07:26.250000</td>\n",
       "    </tr>\n",
       "    <tr>\n",
       "      <th>max</th>\n",
       "      <td>2 days 00:29:02</td>\n",
       "      <td>1 days 01:44:56</td>\n",
       "    </tr>\n",
       "  </tbody>\n",
       "</table>\n",
       "</div>"
      ],
      "text/plain": [
       "                   Booking users          Non-booking users\n",
       "count                       8744                      11636\n",
       "mean   0 days 01:28:26.156107044  0 days 00:11:32.701701615\n",
       "std    0 days 02:13:44.950759102  0 days 00:43:10.613271162\n",
       "min              0 days 00:00:41            0 days 00:00:00\n",
       "25%              0 days 00:20:34            0 days 00:00:00\n",
       "50%              0 days 00:45:22            0 days 00:01:18\n",
       "75%       0 days 01:39:32.250000     0 days 00:07:26.250000\n",
       "max              2 days 00:29:02            1 days 01:44:56"
      ]
     },
     "execution_count": 30,
     "metadata": {},
     "output_type": "execute_result"
    }
   ],
   "source": [
    "# print the statistics:\n",
    "get_description(df,'total_dwell_time')"
   ]
  },
  {
   "cell_type": "markdown",
   "id": "bb40cfe0-e27e-45d2-858d-d13ed7ab7a35",
   "metadata": {},
   "source": [
    "#### Conclusion"
   ]
  },
  {
   "cell_type": "markdown",
   "id": "4aab0295-a917-4a0f-83e7-6b3ebdb95b6c",
   "metadata": {},
   "source": [
    "1. We see that the __dwell time is somewhat skewed__: There some booking users who have a shorter dwell time period but others with longer dwell times. We find this when comparing the mean and median values (or the difference between the 25% and the 75% quartile).\n",
    "1. The __dwell time for non-booking__ users is overall __very short__. Even the 75% quartile of the dwell time of non-booking users is only 7 minutes, and therefore lower than the 25% quartile of the dwell time of booking users.\n"
   ]
  },
  {
   "cell_type": "markdown",
   "id": "cdc931bd-6f79-44a8-9f89-2fbdcfc70985",
   "metadata": {},
   "source": [
    "#### Possible business strategy implication"
   ]
  },
  {
   "cell_type": "markdown",
   "id": "5d88383b-0e9c-4022-b1e6-4ec186f090ea",
   "metadata": {},
   "source": [
    "Support __(non-booking) users to stay longer on the website__. 1. __Investigate why__ these users spend only a short amount of time on the website via further analysis of the clickstream data (cf. section \"Further analyses\" below) or, e.g., via an online survey. 2. __Remove blockers__ so that users spend more time browsing."
   ]
  },
  {
   "cell_type": "markdown",
   "id": "c51bc48c-7373-42bb-9a5a-8dd899049642",
   "metadata": {},
   "source": [
    "### Viewed Hotels"
   ]
  },
  {
   "cell_type": "markdown",
   "id": "d8173561-c1f2-48b5-89ca-96966ec6b59c",
   "metadata": {},
   "source": [
    "#### Definition"
   ]
  },
  {
   "cell_type": "markdown",
   "id": "73f59d0b-c84c-4279-922b-6ca131cb63fe",
   "metadata": {},
   "source": [
    "The number of viewed hotels is defined as the number of distinct hotel ids appearing in a user's clickstream data set from the first activity of the user until his first booking. <br> \n",
    "For non-booking users, it is the number of distinct hotel ids appearing in a user's clickstream data set from the first activity of the user until his last observed activity.<br>\n",
    "The number of viewed hotels represents the consideration set of hotels offerings a user considers to form his purchase decision to book or not to book."
   ]
  },
  {
   "cell_type": "markdown",
   "id": "a3b47f34-b21d-48f5-a1c9-27b0139863f8",
   "metadata": {},
   "source": [
    "#### Assumptions"
   ]
  },
  {
   "cell_type": "markdown",
   "id": "f7e866db-01ce-48ec-ad17-b4a2fe612199",
   "metadata": {},
   "source": [
    "1. __Analogous to__ the ones from __above__ for the consideration period.\n",
    "1. The __user noticed and considered each appearing hotel__ in his clickstream dataset."
   ]
  },
  {
   "cell_type": "markdown",
   "id": "3ddf1e74-a073-49c2-b061-9066e3aa87a7",
   "metadata": {},
   "source": [
    "#### Analysis"
   ]
  },
  {
   "cell_type": "code",
   "execution_count": 31,
   "id": "c3fd95a6-4ad0-4465-9685-e668ee82e215",
   "metadata": {},
   "outputs": [],
   "source": [
    "# add distinct viewed hotels until first booking:\n",
    "# initialize the viewed_hotels variable\n",
    "df['viewed_hotels'] = df['hotel_uuid']\n",
    "# set hotels after the first booking to NaN to ignore them subsequently:\n",
    "df.loc[(df['is_before_first_booking'] ==0) & (df['is_buyer']==1),'viewed_hotels'] = np.NaN\n",
    "# compute the viewed_hotels until first booking\n",
    "df['viewed_hotels'] = df.groupby(['user_id'])['viewed_hotels'].transform(lambda x: len(x.unique()))"
   ]
  },
  {
   "cell_type": "code",
   "execution_count": 32,
   "id": "57b69aec-890b-4775-a02a-f620e0b908cb",
   "metadata": {},
   "outputs": [
    {
     "data": {
      "text/html": [
       "<div>\n",
       "<style scoped>\n",
       "    .dataframe tbody tr th:only-of-type {\n",
       "        vertical-align: middle;\n",
       "    }\n",
       "\n",
       "    .dataframe tbody tr th {\n",
       "        vertical-align: top;\n",
       "    }\n",
       "\n",
       "    .dataframe thead th {\n",
       "        text-align: right;\n",
       "    }\n",
       "</style>\n",
       "<table border=\"1\" class=\"dataframe\">\n",
       "  <thead>\n",
       "    <tr style=\"text-align: right;\">\n",
       "      <th></th>\n",
       "      <th>Booking users</th>\n",
       "      <th>Non-booking users</th>\n",
       "    </tr>\n",
       "  </thead>\n",
       "  <tbody>\n",
       "    <tr>\n",
       "      <th>count</th>\n",
       "      <td>8744.000000</td>\n",
       "      <td>11636.000000</td>\n",
       "    </tr>\n",
       "    <tr>\n",
       "      <th>mean</th>\n",
       "      <td>7.362420</td>\n",
       "      <td>2.417927</td>\n",
       "    </tr>\n",
       "    <tr>\n",
       "      <th>std</th>\n",
       "      <td>11.819627</td>\n",
       "      <td>5.655613</td>\n",
       "    </tr>\n",
       "    <tr>\n",
       "      <th>min</th>\n",
       "      <td>2.000000</td>\n",
       "      <td>1.000000</td>\n",
       "    </tr>\n",
       "    <tr>\n",
       "      <th>25%</th>\n",
       "      <td>2.000000</td>\n",
       "      <td>1.000000</td>\n",
       "    </tr>\n",
       "    <tr>\n",
       "      <th>50%</th>\n",
       "      <td>3.000000</td>\n",
       "      <td>1.000000</td>\n",
       "    </tr>\n",
       "    <tr>\n",
       "      <th>75%</th>\n",
       "      <td>8.000000</td>\n",
       "      <td>2.000000</td>\n",
       "    </tr>\n",
       "    <tr>\n",
       "      <th>max</th>\n",
       "      <td>201.000000</td>\n",
       "      <td>231.000000</td>\n",
       "    </tr>\n",
       "  </tbody>\n",
       "</table>\n",
       "</div>"
      ],
      "text/plain": [
       "       Booking users  Non-booking users\n",
       "count    8744.000000       11636.000000\n",
       "mean        7.362420           2.417927\n",
       "std        11.819627           5.655613\n",
       "min         2.000000           1.000000\n",
       "25%         2.000000           1.000000\n",
       "50%         3.000000           1.000000\n",
       "75%         8.000000           2.000000\n",
       "max       201.000000         231.000000"
      ]
     },
     "execution_count": 32,
     "metadata": {},
     "output_type": "execute_result"
    }
   ],
   "source": [
    "# print the statistics:\n",
    "get_description(df,'viewed_hotels') "
   ]
  },
  {
   "cell_type": "markdown",
   "id": "7646d00a-df5f-49ee-b005-fcb068f095c6",
   "metadata": {},
   "source": [
    "#### Conclusion"
   ]
  },
  {
   "cell_type": "markdown",
   "id": "f84b7844-c06f-4512-8ed4-c4a384806c92",
   "metadata": {},
   "source": [
    "1. We see that the __number of viewed hotels is somewhat skewed__: There some booking users who have a lower number of viewed hotels but others a higher number of viewed hotels. We find this when comparing the mean and median values (or the difference between the 25% and the 75% quartile).\n",
    "1. The __number of viewed hotels for non-booking__ users is overall __lower__. The 75% quartile of the number of viewed hotels of non-booking users is only 2."
   ]
  },
  {
   "cell_type": "markdown",
   "id": "fc06f21b-8d8b-4361-84f6-517b5e0e2427",
   "metadata": {},
   "source": [
    "#### Possible business strategy implication"
   ]
  },
  {
   "cell_type": "markdown",
   "id": "ba54f971-64a5-4f52-bf16-b6564c95763c",
   "metadata": {},
   "source": [
    "__Support (non-booking) users to consider more hotel offerings__. 1. __Investigate why__ these users do not consider more hotel offerings via further analysis of the clickstream data (cf. section \"Further analyses\" below) or, e.g., via an online survey. 2. __Remove blockers__ so that users increase the number of considered hotel offerings."
   ]
  },
  {
   "cell_type": "markdown",
   "id": "5986936d-c773-49c0-bd63-ee62f6df9057",
   "metadata": {},
   "source": [
    "### Further possible analyses "
   ]
  },
  {
   "cell_type": "markdown",
   "id": "fb9840db-929d-47c9-8acc-8dadaf3f88aa",
   "metadata": {},
   "source": [
    "1. __Plot the empirical distribution__ of the _consideration period, dwell time and viewed hotels_ using, e.g., the function plot_distribution. <br> Doing so will help to gain a deeper understanding of how frequent certain values of a variable are and therefore, e.g., how similar or different the activity behavior is across users. \n",
    "1. __Break the path information from the page_name variable down__ to possibly identify different page types and analyze the user activity on them, such as possibly the following: hotel detail pages, hotel review pages, hotel Q&A pages, image views, etc. <br> Doing so would allow to add new aspects to the customer journey and better understand user behavior and needs."
   ]
  },
  {
   "cell_type": "markdown",
   "id": "40c8551c-d0e8-43f4-83c4-0be82741de79",
   "metadata": {},
   "source": [
    "## Further possible analyses"
   ]
  },
  {
   "cell_type": "markdown",
   "id": "d054fc5b-2be1-4008-9c16-b9a63dc7e063",
   "metadata": {},
   "source": [
    "### Path analysis of customer Journey"
   ]
  },
  {
   "cell_type": "markdown",
   "id": "c649d0a4-03a8-4782-897a-aba683b83a43",
   "metadata": {},
   "source": [
    "Examples of questions to address:\n",
    "- _Which are common paths_ of users on their way to booking? \n",
    "- Are there _different paths for different users_?\n",
    "- What are the _transition probabilities_ for the different stages in the user paths and where are _bottlenecks_?"
   ]
  },
  {
   "cell_type": "markdown",
   "id": "3393205a-c30a-4261-9518-cb080b8ead63",
   "metadata": {},
   "source": [
    "### Analyze repeat bookers "
   ]
  },
  {
   "cell_type": "markdown",
   "id": "bd57c4e6-abcc-4cf0-bc57-db1080ac6d68",
   "metadata": {},
   "source": [
    "Examples of questions to address:\n",
    "- _Why_ do they book several hotels? \n",
    "- Do they _spend overall_ more than one-time hotel bookers?\n",
    "- If so, _what can we learn from them_ (e.g., from their hotel choices) to support one-time hotel bookers to book several hotels?"
   ]
  },
  {
   "cell_type": "code",
   "execution_count": null,
   "id": "b887d4af-15a9-4703-854a-5a2b796dbbff",
   "metadata": {},
   "outputs": [],
   "source": []
  }
 ],
 "metadata": {
  "kernelspec": {
   "display_name": "Python 3 (ipykernel)",
   "language": "python",
   "name": "python3"
  },
  "language_info": {
   "codemirror_mode": {
    "name": "ipython",
    "version": 3
   },
   "file_extension": ".py",
   "mimetype": "text/x-python",
   "name": "python",
   "nbconvert_exporter": "python",
   "pygments_lexer": "ipython3",
   "version": "3.9.12"
  },
  "toc-autonumbering": true,
  "toc-showmarkdowntxt": false,
  "toc-showtags": false
 },
 "nbformat": 4,
 "nbformat_minor": 5
}
